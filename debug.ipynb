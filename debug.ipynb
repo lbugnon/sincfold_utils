{
 "cells": [
  {
   "cell_type": "markdown",
   "metadata": {},
   "source": [
    "Just a debugging & samples notebook"
   ]
  },
  {
   "cell_type": "code",
   "execution_count": 17,
   "metadata": {},
   "outputs": [
    {
     "name": "stdout",
     "output_type": "stream",
     "text": [
      "GGGGGCGUAGCUCAGAUGGUAGAGCGCUCGCUUGGCGUGUGAGAGGUACCGGGAUCGAUACCCGGCGCCUCCACCA\n",
      "is seq valid:  True\n",
      "[[1, 72], [2, 71], [3, 70], [4, 69], [5, 68], [6, 67], [7, 66], [10, 25], [11, 24], [12, 23], [13, 22], [27, 43], [28, 42], [29, 41], [30, 40], [31, 39], [49, 65], [50, 64], [51, 63], [52, 62], [53, 61]]\n",
      "(((((((..((((........)))).(((((.......))))).....(((((.......))))))))))))....\n",
      ".((((((..((((........)))).(((((.......))))).....(((((.......))))))))))).....\n",
      "(((((((.<((((.>......)))).(((((.......))))).....(((((.......))))))))))))....\n",
      "(((((((..(((.(.......)))).(((((.......))))).....(((((.......))))))))))))....\n"
     ]
    }
   ],
   "source": [
    "\n",
    "\n",
    "# read structure and sequence from ct file \n",
    "from  sincfold_utils.io import read_ct, ct2dot, bp2dot\n",
    "seq, bp = read_ct('samples/sample.ct')\n",
    "print(seq)\n",
    "\n",
    "from sincfold_utils.validate import is_valid_sequence\n",
    "print(\"is seq valid: \", is_valid_sequence(seq))\n",
    "\n",
    "print(bp)\n",
    "print(ct2dot('samples/sample.ct'))\n",
    "\n",
    "bp_missing = bp.copy()\n",
    "bp_missing.pop(0)\n",
    "print(bp2dot(seq, bp_missing))\n",
    "bp_extra = bp.copy()\n",
    "bp_extra.append([9, 15])\n",
    "print(bp2dot(seq, bp_extra))\n",
    "\n",
    "bp_1miss = bp.copy()\n",
    "bp_1miss.pop(10)\n",
    "bp_1miss.append([14,22])\n",
    "print(bp2dot(seq, bp_1miss))"
   ]
  },
  {
   "cell_type": "code",
   "execution_count": 18,
   "metadata": {},
   "outputs": [
    {
     "name": "stdout",
     "output_type": "stream",
     "text": [
      "f1, recall, precision\n",
      "(1.0, 1.0, 1.0)\n",
      "(0.975609756097561, 0.9523809523809523, 1.0)\n",
      "(0.975609756097561, 0.9523809523809523, 1.0)\n",
      "(0.9523809523809523, 0.9523809523809523, 0.9523809523809523)\n",
      "(1.0, 1.0, 1.0)\n"
     ]
    }
   ],
   "source": [
    "from sincfold_utils.metrics import bp_metrics\n",
    "\n",
    "print(\"f1, recall, precision\")\n",
    "print(bp_metrics(bp, bp))\n",
    "print(bp_metrics(bp, bp_missing))\n",
    "print(bp_metrics(bp, bp_missing, strict=False))\n",
    "\n",
    "print(bp_metrics(bp, bp_1miss))\n",
    "print(bp_metrics(bp, bp_1miss, strict=False))\n"
   ]
  },
  {
   "cell_type": "code",
   "execution_count": 2,
   "metadata": {},
   "outputs": [
    {
     "name": "stdout",
     "output_type": "stream",
     "text": [
      "(((((((..((((........))))((((((.......))))))...(((((.......))))))))))))....\n",
      "------\n",
      "('(((((((((((((........)))..(((((.......)))))(((((((...))).))))))))))))))....', -31.35745)\n",
      "Initializing nucleic acids...done.\n",
      "Setting temperature...done.\n",
      " 92% [===============================================   ] |                     done.\n",
      "Writing output ct file...done.\n",
      "Single strand folding complete.\n",
      "('(((((((((((((........))).....(((((((......)))))))(((......)))))))))))))....', -38.5)\n"
     ]
    }
   ],
   "source": [
    "from sincfold_utils.predictors import fold\n",
    "!rm 20*\n",
    "lppath = \"../LinearPartition/linearpartition\" # TODO this should be a config arg\n",
    "with open(\"samples/trna.fasta\") as fin:\n",
    "    id = fin.readline().strip()\n",
    "    seq = fin.readline().strip()\n",
    "    ref = fin.readline().strip()\n",
    "\n",
    "print(ref)\n",
    "print(\"------\")    \n",
    "print(fold(seq, \"linearpartition\", convert_to_bp=False))\n",
    "print(fold(seq, \"RNAstructure\", convert_to_bp=False))\n"
   ]
  },
  {
   "cell_type": "code",
   "execution_count": 1,
   "metadata": {},
   "outputs": [
    {
     "data": {
      "text/plain": [
       "(np.float64(0.8333333333333334),\n",
       " np.float64(1.0),\n",
       " np.float64(0.16666666666666666),\n",
       " np.float64(0.3333333333333333))"
      ]
     },
     "execution_count": 1,
     "metadata": {},
     "output_type": "execute_result"
    }
   ],
   "source": [
    "from sincfold_utils.metrics import WL\n",
    "import numpy as np \n",
    "y = np.zeros((10, 10))\n",
    "for p in [[0, 9], [1, 8], [2, 7], [3, 6], [4, 5]]:\n",
    "    y[p[0], p[1]] = 1\n",
    "    y[p[1], p[0]] = 1\n",
    "yhat = y.copy()\n",
    "yhat[0, 9]=0\n",
    "yhat[9, 0]=0\n",
    "\n",
    "yhat2 = np.zeros((10, 10))\n",
    "for p in [[1, 9], [2, 8], [3, 7], [4, 6]]:\n",
    "    yhat2[p[0], p[1]] = 1\n",
    "    yhat2[p[1], p[0]] = 1\n",
    "\n",
    "# pseudoknot ({(((}))))\n",
    "yps = np.zeros((10, 10))\n",
    "for p in [[0, 9], [1, 5], [4, 6], [3, 7], [2, 8]]:\n",
    "    yps[p[0], p[1]] = 1\n",
    "    yps[p[1], p[0]] = 1\n",
    "\n",
    "WL(yhat, y), WL(y, y), WL(yhat2, y),  WL(yps, y)"
   ]
  },
  {
   "cell_type": "code",
   "execution_count": 2,
   "metadata": {},
   "outputs": [
    {
     "data": {
      "text/plain": [
       "('((((()))))', '.(((()))).', '.((((.))))', '(<(((>))))')"
      ]
     },
     "execution_count": 2,
     "metadata": {},
     "output_type": "execute_result"
    }
   ],
   "source": [
    "from sincfold_utils.io import mat2dot\n",
    "y = mat2dot(y)\n",
    "yhat = mat2dot(yhat)\n",
    "yhat2 = mat2dot(yhat2)\n",
    "yps = mat2dot(yps)\n",
    "y, yhat, yhat2, yps"
   ]
  },
  {
   "cell_type": "code",
   "execution_count": 3,
   "metadata": {},
   "outputs": [
    {
     "data": {
      "text/plain": [
       "(0.0, 0.4, 0.2, 0.2)"
      ]
     },
     "execution_count": 3,
     "metadata": {},
     "output_type": "execute_result"
    }
   ],
   "source": [
    "from sincfold_utils.metrics import rnadistance\n",
    "\n",
    "rnadistance(y, y), rnadistance(y, yhat), rnadistance(y, yhat2), rnadistance(y, yps) "
   ]
  },
  {
   "cell_type": "code",
   "execution_count": 14,
   "metadata": {},
   "outputs": [
    {
     "name": "stdout",
     "output_type": "stream",
     "text": [
      "ls: no se puede acceder a '../RNAstructure/RNAdistance': No existe el fichero o el directorio\n"
     ]
    }
   ],
   "source": [
    "ls ../RNAstructure/RNAdistance"
   ]
  },
  {
   "cell_type": "code",
   "execution_count": null,
   "metadata": {},
   "outputs": [],
   "source": [
    "# tests to run\n",
    "#- f1 equivalencies between functions, and with known values\n",
    "# read/write ct files"
   ]
  }
 ],
 "metadata": {
  "kernelspec": {
   "display_name": "base",
   "language": "python",
   "name": "python3"
  },
  "language_info": {
   "codemirror_mode": {
    "name": "ipython",
    "version": 3
   },
   "file_extension": ".py",
   "mimetype": "text/x-python",
   "name": "python",
   "nbconvert_exporter": "python",
   "pygments_lexer": "ipython3",
   "version": "3.12.2"
  }
 },
 "nbformat": 4,
 "nbformat_minor": 2
}
