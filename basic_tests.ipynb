{
 "cells": [
  {
   "cell_type": "code",
   "execution_count": 17,
   "metadata": {},
   "outputs": [
    {
     "name": "stdout",
     "output_type": "stream",
     "text": [
      "GGGGGCGUAGCUCAGAUGGUAGAGCGCUCGCUUGGCGUGUGAGAGGUACCGGGAUCGAUACCCGGCGCCUCCACCA\n",
      "is seq valid:  True\n",
      "[[1, 72], [2, 71], [3, 70], [4, 69], [5, 68], [6, 67], [7, 66], [10, 25], [11, 24], [12, 23], [13, 22], [27, 43], [28, 42], [29, 41], [30, 40], [31, 39], [49, 65], [50, 64], [51, 63], [52, 62], [53, 61]]\n",
      "(((((((..((((........)))).(((((.......))))).....(((((.......))))))))))))....\n",
      ".((((((..((((........)))).(((((.......))))).....(((((.......))))))))))).....\n",
      "(((((((.<((((.>......)))).(((((.......))))).....(((((.......))))))))))))....\n",
      "(((((((..(((.(.......)))).(((((.......))))).....(((((.......))))))))))))....\n"
     ]
    }
   ],
   "source": [
    "# read structure and sequence from ct file \n",
    "from  sincfold_utils.io import read_ct, ct2dot, bp2dot\n",
    "seq, bp = read_ct('samples/sample.ct')\n",
    "print(seq)\n",
    "\n",
    "from sincfold_utils.validate import is_valid_sequence\n",
    "print(\"is seq valid: \", is_valid_sequence(seq))\n",
    "\n",
    "print(bp)\n",
    "print(ct2dot('samples/sample.ct'))\n",
    "\n",
    "bp_missing = bp.copy()\n",
    "bp_missing.pop(0)\n",
    "print(bp2dot(seq, bp_missing))\n",
    "bp_extra = bp.copy()\n",
    "bp_extra.append([9, 15])\n",
    "print(bp2dot(seq, bp_extra))\n",
    "\n",
    "bp_1miss = bp.copy()\n",
    "bp_1miss.pop(10)\n",
    "bp_1miss.append([14,22])\n",
    "print(bp2dot(seq, bp_1miss))"
   ]
  },
  {
   "cell_type": "code",
   "execution_count": 18,
   "metadata": {},
   "outputs": [
    {
     "name": "stdout",
     "output_type": "stream",
     "text": [
      "f1, recall, precision\n",
      "(1.0, 1.0, 1.0)\n",
      "(0.975609756097561, 0.9523809523809523, 1.0)\n",
      "(0.975609756097561, 0.9523809523809523, 1.0)\n",
      "(0.9523809523809523, 0.9523809523809523, 0.9523809523809523)\n",
      "(1.0, 1.0, 1.0)\n"
     ]
    }
   ],
   "source": [
    "from sincfold_utils.metrics import bp_metrics\n",
    "\n",
    "print(\"f1, recall, precision\")\n",
    "print(bp_metrics(bp, bp))\n",
    "print(bp_metrics(bp, bp_missing))\n",
    "print(bp_metrics(bp, bp_missing, strict=False))\n",
    "\n",
    "print(bp_metrics(bp, bp_1miss))\n",
    "print(bp_metrics(bp, bp_1miss, strict=False))\n"
   ]
  },
  {
   "cell_type": "code",
   "execution_count": 2,
   "metadata": {},
   "outputs": [
    {
     "name": "stdout",
     "output_type": "stream",
     "text": [
      "(((((((..((((........))))((((((.......))))))...(((((.......))))))))))))....\n",
      "------\n",
      "('(((((((((((((........)))..(((((.......)))))(((((((...))).))))))))))))))....', -31.35745)\n",
      "Initializing nucleic acids...done.\n",
      "Setting temperature...done.\n",
      " 92% [===============================================   ] |                     done.\n",
      "Writing output ct file...done.\n",
      "Single strand folding complete.\n",
      "('(((((((((((((........))).....(((((((......)))))))(((......)))))))))))))....', -38.5)\n"
     ]
    }
   ],
   "source": [
    "from sincfold_utils.predictors import fold\n",
    "!rm 20*\n",
    "lppath = \"../LinearPartition/linearpartition\" # TODO this should be a config arg\n",
    "with open(\"samples/trna.fasta\") as fin:\n",
    "    id = fin.readline().strip()\n",
    "    seq = fin.readline().strip()\n",
    "    ref = fin.readline().strip()\n",
    "\n",
    "print(ref)\n",
    "print(\"------\")    \n",
    "print(fold(seq, \"linearpartition\", convert_to_bp=False))\n",
    "print(fold(seq, \"RNAstructure\", convert_to_bp=False))\n"
   ]
  },
  {
   "cell_type": "code",
   "execution_count": null,
   "metadata": {},
   "outputs": [],
   "source": [
    "fold(seq, \"rnafold\")"
   ]
  },
  {
   "cell_type": "code",
   "execution_count": null,
   "metadata": {},
   "outputs": [],
   "source": [
    "# tests to run\n",
    "#- f1 equivalencies between functions, and with known values\n",
    "# read/write ct files"
   ]
  }
 ],
 "metadata": {
  "kernelspec": {
   "display_name": "base",
   "language": "python",
   "name": "python3"
  },
  "language_info": {
   "codemirror_mode": {
    "name": "ipython",
    "version": 3
   },
   "file_extension": ".py",
   "mimetype": "text/x-python",
   "name": "python",
   "nbconvert_exporter": "python",
   "pygments_lexer": "ipython3",
   "version": "3.12.2"
  }
 },
 "nbformat": 4,
 "nbformat_minor": 2
}
